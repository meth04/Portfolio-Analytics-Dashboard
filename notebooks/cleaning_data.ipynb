{
 "cells": [
  {
   "cell_type": "code",
   "execution_count": 1,
   "id": "8c230721",
   "metadata": {},
   "outputs": [],
   "source": [
    "import pandas as pd \n",
    "import matplotlib.pyplot as plt"
   ]
  },
  {
   "cell_type": "markdown",
   "id": "47f3c775",
   "metadata": {},
   "source": [
    "#### Read raw data"
   ]
  },
  {
   "cell_type": "code",
   "execution_count": 2,
   "id": "380108bb",
   "metadata": {},
   "outputs": [
    {
     "data": {
      "text/html": [
       "<div>\n",
       "<style scoped>\n",
       "    .dataframe tbody tr th:only-of-type {\n",
       "        vertical-align: middle;\n",
       "    }\n",
       "\n",
       "    .dataframe tbody tr th {\n",
       "        vertical-align: top;\n",
       "    }\n",
       "\n",
       "    .dataframe thead th {\n",
       "        text-align: right;\n",
       "    }\n",
       "</style>\n",
       "<table border=\"1\" class=\"dataframe\">\n",
       "  <thead>\n",
       "    <tr style=\"text-align: right;\">\n",
       "      <th></th>\n",
       "      <th>A</th>\n",
       "      <th>AAPL</th>\n",
       "      <th>ABBV</th>\n",
       "      <th>ABNB</th>\n",
       "      <th>ABT</th>\n",
       "      <th>ACGL</th>\n",
       "      <th>ACN</th>\n",
       "      <th>ADBE</th>\n",
       "      <th>ADI</th>\n",
       "      <th>ADM</th>\n",
       "      <th>...</th>\n",
       "      <th>WST</th>\n",
       "      <th>WTW</th>\n",
       "      <th>WY</th>\n",
       "      <th>WYNN</th>\n",
       "      <th>XEL</th>\n",
       "      <th>XYL</th>\n",
       "      <th>YUM</th>\n",
       "      <th>ZBH</th>\n",
       "      <th>ZBRA</th>\n",
       "      <th>ZTS</th>\n",
       "    </tr>\n",
       "    <tr>\n",
       "      <th>Date</th>\n",
       "      <th></th>\n",
       "      <th></th>\n",
       "      <th></th>\n",
       "      <th></th>\n",
       "      <th></th>\n",
       "      <th></th>\n",
       "      <th></th>\n",
       "      <th></th>\n",
       "      <th></th>\n",
       "      <th></th>\n",
       "      <th></th>\n",
       "      <th></th>\n",
       "      <th></th>\n",
       "      <th></th>\n",
       "      <th></th>\n",
       "      <th></th>\n",
       "      <th></th>\n",
       "      <th></th>\n",
       "      <th></th>\n",
       "      <th></th>\n",
       "      <th></th>\n",
       "    </tr>\n",
       "  </thead>\n",
       "  <tbody>\n",
       "    <tr>\n",
       "      <th>2020-06-15</th>\n",
       "      <td>84.072670</td>\n",
       "      <td>83.352501</td>\n",
       "      <td>75.841026</td>\n",
       "      <td>NaN</td>\n",
       "      <td>81.956810</td>\n",
       "      <td>29.411291</td>\n",
       "      <td>185.484039</td>\n",
       "      <td>401.339996</td>\n",
       "      <td>108.362061</td>\n",
       "      <td>34.417336</td>\n",
       "      <td>...</td>\n",
       "      <td>206.887650</td>\n",
       "      <td>176.982254</td>\n",
       "      <td>18.278782</td>\n",
       "      <td>89.813675</td>\n",
       "      <td>54.786343</td>\n",
       "      <td>60.843853</td>\n",
       "      <td>83.321045</td>\n",
       "      <td>118.745766</td>\n",
       "      <td>259.410004</td>\n",
       "      <td>127.973457</td>\n",
       "    </tr>\n",
       "    <tr>\n",
       "      <th>2020-06-16</th>\n",
       "      <td>84.536713</td>\n",
       "      <td>85.561523</td>\n",
       "      <td>78.269119</td>\n",
       "      <td>NaN</td>\n",
       "      <td>82.130692</td>\n",
       "      <td>29.687052</td>\n",
       "      <td>189.763962</td>\n",
       "      <td>411.670013</td>\n",
       "      <td>112.193596</td>\n",
       "      <td>35.506500</td>\n",
       "      <td>...</td>\n",
       "      <td>207.984482</td>\n",
       "      <td>179.103897</td>\n",
       "      <td>19.047977</td>\n",
       "      <td>88.359085</td>\n",
       "      <td>54.984760</td>\n",
       "      <td>63.088249</td>\n",
       "      <td>83.703773</td>\n",
       "      <td>122.416588</td>\n",
       "      <td>266.459991</td>\n",
       "      <td>130.795959</td>\n",
       "    </tr>\n",
       "    <tr>\n",
       "      <th>2020-06-17</th>\n",
       "      <td>85.000763</td>\n",
       "      <td>85.442444</td>\n",
       "      <td>78.008385</td>\n",
       "      <td>NaN</td>\n",
       "      <td>83.192329</td>\n",
       "      <td>29.202093</td>\n",
       "      <td>190.506683</td>\n",
       "      <td>413.489990</td>\n",
       "      <td>112.047310</td>\n",
       "      <td>35.262535</td>\n",
       "      <td>...</td>\n",
       "      <td>208.745407</td>\n",
       "      <td>184.449951</td>\n",
       "      <td>18.510365</td>\n",
       "      <td>86.592087</td>\n",
       "      <td>55.114147</td>\n",
       "      <td>63.248569</td>\n",
       "      <td>83.157028</td>\n",
       "      <td>119.623764</td>\n",
       "      <td>260.820007</td>\n",
       "      <td>131.323959</td>\n",
       "    </tr>\n",
       "    <tr>\n",
       "      <th>2020-06-18</th>\n",
       "      <td>85.281158</td>\n",
       "      <td>85.476463</td>\n",
       "      <td>78.407623</td>\n",
       "      <td>NaN</td>\n",
       "      <td>82.624901</td>\n",
       "      <td>29.049950</td>\n",
       "      <td>188.399216</td>\n",
       "      <td>420.459991</td>\n",
       "      <td>112.303322</td>\n",
       "      <td>35.358379</td>\n",
       "      <td>...</td>\n",
       "      <td>210.128830</td>\n",
       "      <td>183.300354</td>\n",
       "      <td>18.535177</td>\n",
       "      <td>86.269928</td>\n",
       "      <td>55.648987</td>\n",
       "      <td>62.626175</td>\n",
       "      <td>82.127373</td>\n",
       "      <td>119.035332</td>\n",
       "      <td>262.230011</td>\n",
       "      <td>131.909546</td>\n",
       "    </tr>\n",
       "    <tr>\n",
       "      <th>2020-06-19</th>\n",
       "      <td>85.783882</td>\n",
       "      <td>84.987991</td>\n",
       "      <td>78.798721</td>\n",
       "      <td>NaN</td>\n",
       "      <td>82.990990</td>\n",
       "      <td>27.889854</td>\n",
       "      <td>187.118027</td>\n",
       "      <td>428.010010</td>\n",
       "      <td>109.898331</td>\n",
       "      <td>35.062126</td>\n",
       "      <td>...</td>\n",
       "      <td>214.022095</td>\n",
       "      <td>176.505585</td>\n",
       "      <td>18.775038</td>\n",
       "      <td>84.727486</td>\n",
       "      <td>55.217670</td>\n",
       "      <td>61.569992</td>\n",
       "      <td>80.423401</td>\n",
       "      <td>117.895767</td>\n",
       "      <td>264.410004</td>\n",
       "      <td>131.909546</td>\n",
       "    </tr>\n",
       "  </tbody>\n",
       "</table>\n",
       "<p>5 rows × 503 columns</p>\n",
       "</div>"
      ],
      "text/plain": [
       "                    A       AAPL       ABBV  ABNB        ABT       ACGL  \\\n",
       "Date                                                                      \n",
       "2020-06-15  84.072670  83.352501  75.841026   NaN  81.956810  29.411291   \n",
       "2020-06-16  84.536713  85.561523  78.269119   NaN  82.130692  29.687052   \n",
       "2020-06-17  85.000763  85.442444  78.008385   NaN  83.192329  29.202093   \n",
       "2020-06-18  85.281158  85.476463  78.407623   NaN  82.624901  29.049950   \n",
       "2020-06-19  85.783882  84.987991  78.798721   NaN  82.990990  27.889854   \n",
       "\n",
       "                   ACN        ADBE         ADI        ADM  ...         WST  \\\n",
       "Date                                                       ...               \n",
       "2020-06-15  185.484039  401.339996  108.362061  34.417336  ...  206.887650   \n",
       "2020-06-16  189.763962  411.670013  112.193596  35.506500  ...  207.984482   \n",
       "2020-06-17  190.506683  413.489990  112.047310  35.262535  ...  208.745407   \n",
       "2020-06-18  188.399216  420.459991  112.303322  35.358379  ...  210.128830   \n",
       "2020-06-19  187.118027  428.010010  109.898331  35.062126  ...  214.022095   \n",
       "\n",
       "                   WTW         WY       WYNN        XEL        XYL        YUM  \\\n",
       "Date                                                                            \n",
       "2020-06-15  176.982254  18.278782  89.813675  54.786343  60.843853  83.321045   \n",
       "2020-06-16  179.103897  19.047977  88.359085  54.984760  63.088249  83.703773   \n",
       "2020-06-17  184.449951  18.510365  86.592087  55.114147  63.248569  83.157028   \n",
       "2020-06-18  183.300354  18.535177  86.269928  55.648987  62.626175  82.127373   \n",
       "2020-06-19  176.505585  18.775038  84.727486  55.217670  61.569992  80.423401   \n",
       "\n",
       "                   ZBH        ZBRA         ZTS  \n",
       "Date                                            \n",
       "2020-06-15  118.745766  259.410004  127.973457  \n",
       "2020-06-16  122.416588  266.459991  130.795959  \n",
       "2020-06-17  119.623764  260.820007  131.323959  \n",
       "2020-06-18  119.035332  262.230011  131.909546  \n",
       "2020-06-19  117.895767  264.410004  131.909546  \n",
       "\n",
       "[5 rows x 503 columns]"
      ]
     },
     "execution_count": 2,
     "metadata": {},
     "output_type": "execute_result"
    }
   ],
   "source": [
    "data = pd.read_csv('../data/raw/sp500_prices.csv', index_col='Date')\n",
    "data.head()"
   ]
  },
  {
   "cell_type": "markdown",
   "id": "581ec408",
   "metadata": {},
   "source": [
    "#### Data discovery"
   ]
  },
  {
   "cell_type": "code",
   "execution_count": 19,
   "id": "19e0657d",
   "metadata": {},
   "outputs": [
    {
     "data": {
      "text/plain": [
       "(1255, 503)"
      ]
     },
     "execution_count": 19,
     "metadata": {},
     "output_type": "execute_result"
    }
   ],
   "source": [
    "data.shape"
   ]
  },
  {
   "cell_type": "code",
   "execution_count": 3,
   "id": "a6cdcd21",
   "metadata": {},
   "outputs": [
    {
     "data": {
      "text/plain": [
       "Index(['A', 'AAPL', 'ABBV', 'ABNB', 'ABT', 'ACGL', 'ACN', 'ADBE', 'ADI', 'ADM',\n",
       "       ...\n",
       "       'WST', 'WTW', 'WY', 'WYNN', 'XEL', 'XYL', 'YUM', 'ZBH', 'ZBRA', 'ZTS'],\n",
       "      dtype='object', length=503)"
      ]
     },
     "execution_count": 3,
     "metadata": {},
     "output_type": "execute_result"
    }
   ],
   "source": [
    "data.columns"
   ]
  },
  {
   "cell_type": "code",
   "execution_count": 4,
   "id": "5710be2d",
   "metadata": {},
   "outputs": [
    {
     "name": "stdout",
     "output_type": "stream",
     "text": [
      "<class 'pandas.core.frame.DataFrame'>\n",
      "Index: 1255 entries, 2020-06-15 to 2025-06-11\n",
      "Columns: 503 entries, A to ZTS\n",
      "dtypes: float64(503)\n",
      "memory usage: 4.8+ MB\n"
     ]
    }
   ],
   "source": [
    "data.info()"
   ]
  },
  {
   "cell_type": "code",
   "execution_count": 5,
   "id": "e0a9a58b",
   "metadata": {},
   "outputs": [
    {
     "data": {
      "text/html": [
       "<div>\n",
       "<style scoped>\n",
       "    .dataframe tbody tr th:only-of-type {\n",
       "        vertical-align: middle;\n",
       "    }\n",
       "\n",
       "    .dataframe tbody tr th {\n",
       "        vertical-align: top;\n",
       "    }\n",
       "\n",
       "    .dataframe thead th {\n",
       "        text-align: right;\n",
       "    }\n",
       "</style>\n",
       "<table border=\"1\" class=\"dataframe\">\n",
       "  <thead>\n",
       "    <tr style=\"text-align: right;\">\n",
       "      <th></th>\n",
       "      <th>A</th>\n",
       "      <th>AAPL</th>\n",
       "      <th>ABBV</th>\n",
       "      <th>ABNB</th>\n",
       "      <th>ABT</th>\n",
       "      <th>ACGL</th>\n",
       "      <th>ACN</th>\n",
       "      <th>ADBE</th>\n",
       "      <th>ADI</th>\n",
       "      <th>ADM</th>\n",
       "      <th>...</th>\n",
       "      <th>WST</th>\n",
       "      <th>WTW</th>\n",
       "      <th>WY</th>\n",
       "      <th>WYNN</th>\n",
       "      <th>XEL</th>\n",
       "      <th>XYL</th>\n",
       "      <th>YUM</th>\n",
       "      <th>ZBH</th>\n",
       "      <th>ZBRA</th>\n",
       "      <th>ZTS</th>\n",
       "    </tr>\n",
       "  </thead>\n",
       "  <tbody>\n",
       "    <tr>\n",
       "      <th>count</th>\n",
       "      <td>1255.000000</td>\n",
       "      <td>1255.000000</td>\n",
       "      <td>1255.000000</td>\n",
       "      <td>1130.000000</td>\n",
       "      <td>1255.000000</td>\n",
       "      <td>1255.000000</td>\n",
       "      <td>1255.000000</td>\n",
       "      <td>1255.000000</td>\n",
       "      <td>1255.000000</td>\n",
       "      <td>1255.000000</td>\n",
       "      <td>...</td>\n",
       "      <td>1255.000000</td>\n",
       "      <td>1255.000000</td>\n",
       "      <td>1255.000000</td>\n",
       "      <td>1255.000000</td>\n",
       "      <td>1255.000000</td>\n",
       "      <td>1255.000000</td>\n",
       "      <td>1255.000000</td>\n",
       "      <td>1255.000000</td>\n",
       "      <td>1255.000000</td>\n",
       "      <td>1255.000000</td>\n",
       "    </tr>\n",
       "    <tr>\n",
       "      <th>mean</th>\n",
       "      <td>128.822223</td>\n",
       "      <td>164.990630</td>\n",
       "      <td>133.487893</td>\n",
       "      <td>139.000297</td>\n",
       "      <td>107.737183</td>\n",
       "      <td>60.871044</td>\n",
       "      <td>294.146041</td>\n",
       "      <td>478.189641</td>\n",
       "      <td>168.886360</td>\n",
       "      <td>61.003722</td>\n",
       "      <td>...</td>\n",
       "      <td>322.892493</td>\n",
       "      <td>235.363640</td>\n",
       "      <td>29.580537</td>\n",
       "      <td>89.788239</td>\n",
       "      <td>60.650120</td>\n",
       "      <td>105.775754</td>\n",
       "      <td>118.780862</td>\n",
       "      <td>122.466495</td>\n",
       "      <td>352.019864</td>\n",
       "      <td>170.406506</td>\n",
       "    </tr>\n",
       "    <tr>\n",
       "      <th>std</th>\n",
       "      <td>17.247565</td>\n",
       "      <td>37.778251</td>\n",
       "      <td>35.358252</td>\n",
       "      <td>25.131140</td>\n",
       "      <td>10.748608</td>\n",
       "      <td>24.558360</td>\n",
       "      <td>44.613351</td>\n",
       "      <td>90.175195</td>\n",
       "      <td>32.836758</td>\n",
       "      <td>13.558951</td>\n",
       "      <td>...</td>\n",
       "      <td>61.516832</td>\n",
       "      <td>39.791666</td>\n",
       "      <td>3.343925</td>\n",
       "      <td>17.095365</td>\n",
       "      <td>5.086926</td>\n",
       "      <td>18.617558</td>\n",
       "      <td>16.517718</td>\n",
       "      <td>16.032037</td>\n",
       "      <td>103.651152</td>\n",
       "      <td>18.719332</td>\n",
       "    </tr>\n",
       "    <tr>\n",
       "      <th>min</th>\n",
       "      <td>83.047852</td>\n",
       "      <td>83.352501</td>\n",
       "      <td>67.287224</td>\n",
       "      <td>82.489998</td>\n",
       "      <td>79.897591</td>\n",
       "      <td>25.712297</td>\n",
       "      <td>185.484039</td>\n",
       "      <td>275.200012</td>\n",
       "      <td>102.363304</td>\n",
       "      <td>32.944805</td>\n",
       "      <td>...</td>\n",
       "      <td>190.202698</td>\n",
       "      <td>168.976379</td>\n",
       "      <td>17.774254</td>\n",
       "      <td>50.783768</td>\n",
       "      <td>46.260654</td>\n",
       "      <td>58.618320</td>\n",
       "      <td>77.261490</td>\n",
       "      <td>90.480003</td>\n",
       "      <td>197.990005</td>\n",
       "      <td>126.706154</td>\n",
       "    </tr>\n",
       "    <tr>\n",
       "      <th>25%</th>\n",
       "      <td>117.746319</td>\n",
       "      <td>138.123734</td>\n",
       "      <td>99.917522</td>\n",
       "      <td>119.912500</td>\n",
       "      <td>100.247616</td>\n",
       "      <td>38.492374</td>\n",
       "      <td>264.966385</td>\n",
       "      <td>414.709991</td>\n",
       "      <td>147.567894</td>\n",
       "      <td>50.596752</td>\n",
       "      <td>...</td>\n",
       "      <td>277.641617</td>\n",
       "      <td>204.363358</td>\n",
       "      <td>27.970574</td>\n",
       "      <td>79.338654</td>\n",
       "      <td>56.892418</td>\n",
       "      <td>92.193817</td>\n",
       "      <td>109.011810</td>\n",
       "      <td>109.796997</td>\n",
       "      <td>275.339996</td>\n",
       "      <td>157.003906</td>\n",
       "    </tr>\n",
       "    <tr>\n",
       "      <th>50%</th>\n",
       "      <td>130.172333</td>\n",
       "      <td>162.893448</td>\n",
       "      <td>135.551163</td>\n",
       "      <td>137.165001</td>\n",
       "      <td>106.742012</td>\n",
       "      <td>57.196548</td>\n",
       "      <td>298.250031</td>\n",
       "      <td>479.510010</td>\n",
       "      <td>164.777756</td>\n",
       "      <td>58.892132</td>\n",
       "      <td>...</td>\n",
       "      <td>323.368073</td>\n",
       "      <td>224.853210</td>\n",
       "      <td>29.684765</td>\n",
       "      <td>89.091560</td>\n",
       "      <td>60.498283</td>\n",
       "      <td>106.489586</td>\n",
       "      <td>121.735809</td>\n",
       "      <td>120.403847</td>\n",
       "      <td>313.459991</td>\n",
       "      <td>168.096512</td>\n",
       "    </tr>\n",
       "    <tr>\n",
       "      <th>75%</th>\n",
       "      <td>140.252235</td>\n",
       "      <td>188.794724</td>\n",
       "      <td>158.304070</td>\n",
       "      <td>155.069996</td>\n",
       "      <td>113.419827</td>\n",
       "      <td>85.457253</td>\n",
       "      <td>324.859177</td>\n",
       "      <td>535.880005</td>\n",
       "      <td>189.645737</td>\n",
       "      <td>72.194626</td>\n",
       "      <td>...</td>\n",
       "      <td>367.546097</td>\n",
       "      <td>252.528999</td>\n",
       "      <td>31.746989</td>\n",
       "      <td>100.571777</td>\n",
       "      <td>63.965912</td>\n",
       "      <td>122.079319</td>\n",
       "      <td>130.762650</td>\n",
       "      <td>133.489418</td>\n",
       "      <td>405.584991</td>\n",
       "      <td>182.376198</td>\n",
       "    </tr>\n",
       "    <tr>\n",
       "      <th>max</th>\n",
       "      <td>174.784485</td>\n",
       "      <td>258.396667</td>\n",
       "      <td>214.676071</td>\n",
       "      <td>216.839996</td>\n",
       "      <td>139.573471</td>\n",
       "      <td>109.220207</td>\n",
       "      <td>396.284912</td>\n",
       "      <td>688.369995</td>\n",
       "      <td>241.663498</td>\n",
       "      <td>90.189819</td>\n",
       "      <td>...</td>\n",
       "      <td>467.231934</td>\n",
       "      <td>339.949860</td>\n",
       "      <td>37.775902</td>\n",
       "      <td>136.672974</td>\n",
       "      <td>72.379997</td>\n",
       "      <td>143.870865</td>\n",
       "      <td>161.736633</td>\n",
       "      <td>167.999115</td>\n",
       "      <td>614.549988</td>\n",
       "      <td>239.098663</td>\n",
       "    </tr>\n",
       "  </tbody>\n",
       "</table>\n",
       "<p>8 rows × 503 columns</p>\n",
       "</div>"
      ],
      "text/plain": [
       "                 A         AAPL         ABBV         ABNB          ABT  \\\n",
       "count  1255.000000  1255.000000  1255.000000  1130.000000  1255.000000   \n",
       "mean    128.822223   164.990630   133.487893   139.000297   107.737183   \n",
       "std      17.247565    37.778251    35.358252    25.131140    10.748608   \n",
       "min      83.047852    83.352501    67.287224    82.489998    79.897591   \n",
       "25%     117.746319   138.123734    99.917522   119.912500   100.247616   \n",
       "50%     130.172333   162.893448   135.551163   137.165001   106.742012   \n",
       "75%     140.252235   188.794724   158.304070   155.069996   113.419827   \n",
       "max     174.784485   258.396667   214.676071   216.839996   139.573471   \n",
       "\n",
       "              ACGL          ACN         ADBE          ADI          ADM  ...  \\\n",
       "count  1255.000000  1255.000000  1255.000000  1255.000000  1255.000000  ...   \n",
       "mean     60.871044   294.146041   478.189641   168.886360    61.003722  ...   \n",
       "std      24.558360    44.613351    90.175195    32.836758    13.558951  ...   \n",
       "min      25.712297   185.484039   275.200012   102.363304    32.944805  ...   \n",
       "25%      38.492374   264.966385   414.709991   147.567894    50.596752  ...   \n",
       "50%      57.196548   298.250031   479.510010   164.777756    58.892132  ...   \n",
       "75%      85.457253   324.859177   535.880005   189.645737    72.194626  ...   \n",
       "max     109.220207   396.284912   688.369995   241.663498    90.189819  ...   \n",
       "\n",
       "               WST          WTW           WY         WYNN          XEL  \\\n",
       "count  1255.000000  1255.000000  1255.000000  1255.000000  1255.000000   \n",
       "mean    322.892493   235.363640    29.580537    89.788239    60.650120   \n",
       "std      61.516832    39.791666     3.343925    17.095365     5.086926   \n",
       "min     190.202698   168.976379    17.774254    50.783768    46.260654   \n",
       "25%     277.641617   204.363358    27.970574    79.338654    56.892418   \n",
       "50%     323.368073   224.853210    29.684765    89.091560    60.498283   \n",
       "75%     367.546097   252.528999    31.746989   100.571777    63.965912   \n",
       "max     467.231934   339.949860    37.775902   136.672974    72.379997   \n",
       "\n",
       "               XYL          YUM          ZBH         ZBRA          ZTS  \n",
       "count  1255.000000  1255.000000  1255.000000  1255.000000  1255.000000  \n",
       "mean    105.775754   118.780862   122.466495   352.019864   170.406506  \n",
       "std      18.617558    16.517718    16.032037   103.651152    18.719332  \n",
       "min      58.618320    77.261490    90.480003   197.990005   126.706154  \n",
       "25%      92.193817   109.011810   109.796997   275.339996   157.003906  \n",
       "50%     106.489586   121.735809   120.403847   313.459991   168.096512  \n",
       "75%     122.079319   130.762650   133.489418   405.584991   182.376198  \n",
       "max     143.870865   161.736633   167.999115   614.549988   239.098663  \n",
       "\n",
       "[8 rows x 503 columns]"
      ]
     },
     "execution_count": 5,
     "metadata": {},
     "output_type": "execute_result"
    }
   ],
   "source": [
    "data.describe()"
   ]
  },
  {
   "cell_type": "code",
   "execution_count": 6,
   "id": "d1fae63e",
   "metadata": {},
   "outputs": [
    {
     "data": {
      "text/plain": [
       "np.int64(6222)"
      ]
     },
     "execution_count": 6,
     "metadata": {},
     "output_type": "execute_result"
    }
   ],
   "source": [
    "data.isna().sum().sum()"
   ]
  },
  {
   "cell_type": "code",
   "execution_count": 7,
   "id": "79c72357",
   "metadata": {},
   "outputs": [
    {
     "data": {
      "text/plain": [
       "SW      1021\n",
       "GEV      954\n",
       "SOLV     954\n",
       "VLTO     832\n",
       "KVUE     727\n",
       "GEHC     632\n",
       "CEG      403\n",
       "COIN     209\n",
       "EXE      166\n",
       "ABNB     125\n",
       "DASH     124\n",
       "PLTR      75\n",
       "ALL        0\n",
       "VRSK       0\n",
       "VRSN       0\n",
       "dtype: int64"
      ]
     },
     "execution_count": 7,
     "metadata": {},
     "output_type": "execute_result"
    }
   ],
   "source": [
    "data.isna().sum().sort_values(ascending=False).head(15)"
   ]
  },
  {
   "cell_type": "markdown",
   "id": "be21af4d",
   "metadata": {},
   "source": [
    "#### Drop all columns have NaN value"
   ]
  },
  {
   "cell_type": "code",
   "execution_count": 8,
   "id": "c4f37cb6",
   "metadata": {},
   "outputs": [],
   "source": [
    "data_cleaned = data.dropna(axis=1, how='any')"
   ]
  },
  {
   "cell_type": "code",
   "execution_count": 9,
   "id": "58130c3a",
   "metadata": {},
   "outputs": [
    {
     "name": "stdout",
     "output_type": "stream",
     "text": [
      "<class 'pandas.core.frame.DataFrame'>\n",
      "Index: 1255 entries, 2020-06-15 to 2025-06-11\n",
      "Columns: 491 entries, A to ZTS\n",
      "dtypes: float64(491)\n",
      "memory usage: 4.7+ MB\n"
     ]
    }
   ],
   "source": [
    "data_cleaned.info()"
   ]
  },
  {
   "cell_type": "code",
   "execution_count": 10,
   "id": "b9ecbc6a",
   "metadata": {},
   "outputs": [
    {
     "name": "stdout",
     "output_type": "stream",
     "text": [
      "Total NaN value in data_cleaned: 0\n"
     ]
    }
   ],
   "source": [
    "# check data_cleaned\n",
    "print(\"Total NaN value in data_cleaned:\", data_cleaned.isna().sum().sum())"
   ]
  },
  {
   "cell_type": "markdown",
   "id": "a0e08f9e",
   "metadata": {},
   "source": [
    "#### Check index is a unique date string, no duplicates"
   ]
  },
  {
   "cell_type": "code",
   "execution_count": 12,
   "id": "a88808ff",
   "metadata": {},
   "outputs": [
    {
     "data": {
      "text/plain": [
       "1255"
      ]
     },
     "execution_count": 12,
     "metadata": {},
     "output_type": "execute_result"
    }
   ],
   "source": [
    "n_dates = len(data_cleaned.index)\n",
    "n_dates"
   ]
  },
  {
   "cell_type": "code",
   "execution_count": 14,
   "id": "e04ba3f1",
   "metadata": {},
   "outputs": [
    {
     "data": {
      "text/plain": [
       "1255"
      ]
     },
     "execution_count": 14,
     "metadata": {},
     "output_type": "execute_result"
    }
   ],
   "source": [
    "n_unique = data_cleaned.index.nunique()\n",
    "n_unique"
   ]
  },
  {
   "cell_type": "code",
   "execution_count": 15,
   "id": "5bac7252",
   "metadata": {},
   "outputs": [
    {
     "name": "stdout",
     "output_type": "stream",
     "text": [
      "Rows = 1255, Unique dates = 1255\n"
     ]
    }
   ],
   "source": [
    "print(f\"Rows = {n_dates}, Unique dates = {n_unique}\")"
   ]
  },
  {
   "cell_type": "markdown",
   "id": "45a625e2",
   "metadata": {},
   "source": [
    "#### Check date order"
   ]
  },
  {
   "cell_type": "code",
   "execution_count": 16,
   "id": "41cb4273",
   "metadata": {},
   "outputs": [
    {
     "name": "stdout",
     "output_type": "stream",
     "text": [
      "Index is sorted: True\n"
     ]
    }
   ],
   "source": [
    "is_sorted = data_cleaned.index.is_monotonic_increasing\n",
    "print(\"Index is sorted:\", is_sorted)"
   ]
  },
  {
   "cell_type": "markdown",
   "id": "eedf22c6",
   "metadata": {},
   "source": [
    "#### Check frequency\n",
    "Expect approximately 251 trading days per year (not including weekends or holidays)"
   ]
  },
  {
   "cell_type": "code",
   "execution_count": 18,
   "id": "c2729a74",
   "metadata": {},
   "outputs": [
    {
     "name": "stdout",
     "output_type": "stream",
     "text": [
      "Average trading days of year: 251.0\n"
     ]
    }
   ],
   "source": [
    "n_per_year = len(data_cleaned)/5 \n",
    "print(\"Average trading days of year:\", n_per_year)"
   ]
  },
  {
   "cell_type": "code",
   "execution_count": 21,
   "id": "97b1799c",
   "metadata": {},
   "outputs": [
    {
     "name": "stdout",
     "output_type": "stream",
     "text": [
      "Original tickers: 503\n",
      "Clean tickers  : 491\n"
     ]
    }
   ],
   "source": [
    "print(\"Original tickers:\", data.shape[1])\n",
    "print(\"Clean tickers  :\", data_cleaned.shape[1])"
   ]
  },
  {
   "cell_type": "code",
   "execution_count": null,
   "id": "8f9f4f6d",
   "metadata": {},
   "outputs": [],
   "source": [
    "data_cleaned.to_csv('../data/processed/sp500_price.csv', index=True)"
   ]
  }
 ],
 "metadata": {
  "kernelspec": {
   "display_name": "science-env",
   "language": "python",
   "name": "python3"
  },
  "language_info": {
   "codemirror_mode": {
    "name": "ipython",
    "version": 3
   },
   "file_extension": ".py",
   "mimetype": "text/x-python",
   "name": "python",
   "nbconvert_exporter": "python",
   "pygments_lexer": "ipython3",
   "version": "3.9.21"
  }
 },
 "nbformat": 4,
 "nbformat_minor": 5
}
